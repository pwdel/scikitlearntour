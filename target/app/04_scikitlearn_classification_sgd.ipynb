{
 "cells": [
  {
   "cell_type": "markdown",
   "id": "435a6d21-26cd-4501-a873-c9ec925e49c6",
   "metadata": {},
   "source": [
    "https://scikit-learn.org/stable/modules/sgd.html\n",
    "\n",
    "The advantages of Stochastic Gradient Descent are:\n",
    "\n",
    "* Efficiency.\n",
    "* Ease of implementation (lots of opportunities for code tuning).\n",
    "\n",
    "The disadvantages of Stochastic Gradient Descent include:\n",
    "\n",
    "* SGD requires a number of hyperparameters such as the regularization parameter and the number of iterations.\n",
    "* SGD is sensitive to feature scaling."
   ]
  },
  {
   "cell_type": "code",
   "execution_count": 3,
   "id": "f69a9165-b979-4bf7-bbdb-1b0f350dfe40",
   "metadata": {},
   "outputs": [
    {
     "name": "stderr",
     "output_type": "stream",
     "text": [
      "/opt/conda/lib/python3.9/site-packages/sklearn/linear_model/_stochastic_gradient.py:696: ConvergenceWarning: Maximum number of iteration reached before convergence. Consider increasing max_iter to improve the fit.\n",
      "  warnings.warn(\n"
     ]
    },
    {
     "data": {
      "text/plain": [
       "SGDClassifier(max_iter=5)"
      ]
     },
     "execution_count": 3,
     "metadata": {},
     "output_type": "execute_result"
    }
   ],
   "source": [
    "from sklearn.linear_model import SGDClassifier\n",
    "X = [[0., 0.], [1., 1.]]\n",
    "y = [0, 1]\n",
    "clf = SGDClassifier(loss=\"hinge\", penalty=\"l2\", max_iter=5)\n",
    "clf.fit(X, y)\n"
   ]
  },
  {
   "cell_type": "code",
   "execution_count": 4,
   "id": "db71e751-2a22-4519-b573-4f66a4f61eb4",
   "metadata": {},
   "outputs": [
    {
     "data": {
      "text/plain": [
       "1"
      ]
     },
     "execution_count": 4,
     "metadata": {},
     "output_type": "execute_result"
    }
   ],
   "source": [
    "clf.predict([[2., 2.]])[0]"
   ]
  },
  {
   "cell_type": "markdown",
   "id": "8772707f-445b-4704-9fcb-62d9d0ecaf09",
   "metadata": {},
   "source": [
    "Mathematical Formulation: https://scikit-learn.org/stable/modules/sgd.html#mathematical-formulation"
   ]
  }
 ],
 "metadata": {
  "kernelspec": {
   "display_name": "Python 3 (ipykernel)",
   "language": "python",
   "name": "python3"
  },
  "language_info": {
   "codemirror_mode": {
    "name": "ipython",
    "version": 3
   },
   "file_extension": ".py",
   "mimetype": "text/x-python",
   "name": "python",
   "nbconvert_exporter": "python",
   "pygments_lexer": "ipython3",
   "version": "3.9.7"
  }
 },
 "nbformat": 4,
 "nbformat_minor": 5
}
