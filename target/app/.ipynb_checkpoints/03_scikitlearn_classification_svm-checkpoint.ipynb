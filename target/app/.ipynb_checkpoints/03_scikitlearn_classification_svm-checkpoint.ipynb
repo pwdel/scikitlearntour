{
 "cells": [
  {
   "cell_type": "markdown",
   "id": "fad3f795-40c2-43b7-b7f6-a6f400a90522",
   "metadata": {},
   "source": [
    "# Support Vector Machines\n",
    "\n",
    "### Advantages\n",
    "\n",
    "* Effective in high dimensional spaces.\n",
    "* Still effective in cases where number of dimensions is greater than the number of samples.\n",
    "* Uses a subset of training points in the decision function (called support vectors), so it is also memory efficient.\n",
    "* Versatile: different Kernel functions can be specified for the decision function. Common kernels are provided, but it is also possible to specify custom kernels.\n",
    "\n",
    "### Disadvantages\n",
    "\n",
    "* If the number of features is much greater than the number of samples, avoid over-fitting in choosing Kernel functions and regularization term is crucial.\n",
    "* SVMs do not directly provide probability estimates, these are calculated using an expensive five-fold cross-validation (see Scores and probabilities, below)."
   ]
  },
  {
   "cell_type": "code",
   "execution_count": 1,
   "id": "f4524dc2-db2c-464f-bc69-ea5f8c583290",
   "metadata": {},
   "outputs": [
    {
     "data": {
      "text/plain": [
       "SVC()"
      ]
     },
     "execution_count": 1,
     "metadata": {},
     "output_type": "execute_result"
    }
   ],
   "source": [
    "from sklearn import svm\n",
    "X = [[0, 0], [1, 1]]\n",
    "y = [0, 1]\n",
    "clf = svm.SVC()\n",
    "clf.fit(X, y)"
   ]
  },
  {
   "cell_type": "markdown",
   "id": "b9847536-7085-46b9-937f-1fe01e0ad172",
   "metadata": {},
   "source": [
    "After being fitted, the model can then be used to predict new values:"
   ]
  },
  {
   "cell_type": "code",
   "execution_count": 6,
   "id": "438b4540-7ba5-402a-a898-1b2b64818297",
   "metadata": {},
   "outputs": [
    {
     "name": "stdout",
     "output_type": "stream",
     "text": [
      "yes, within set\n"
     ]
    }
   ],
   "source": [
    "newset0 = [2.,2.]\n",
    "newset1 = [-1.,-1]\n",
    "\n",
    "prediction = clf.predict([newset0])[0]\n",
    "if prediction == 1:\n",
    "    print('yes, within set')\n",
    "else:\n",
    "    print('no, not within set')"
   ]
  },
  {
   "cell_type": "code",
   "execution_count": 7,
   "id": "1d5e4405-f305-4398-938b-9367f4dcc5b0",
   "metadata": {},
   "outputs": [
    {
     "name": "stdout",
     "output_type": "stream",
     "text": [
      "no, not within set\n"
     ]
    }
   ],
   "source": [
    "prediction = clf.predict([[-1, -1]])[0]\n",
    "if prediction == 1:\n",
    "    print('yes, within set')\n",
    "else:\n",
    "    print('no, not within set')"
   ]
  },
  {
   "cell_type": "markdown",
   "id": "015d849c-1b51-4b61-b950-5aadc1781332",
   "metadata": {},
   "source": [
    "Mathematical Formulation https://scikit-learn.org/stable/modules/svm.html#svm-mathematical-formulation"
   ]
  },
  {
   "cell_type": "markdown",
   "id": "9539a4b8-0abe-4345-90dd-847f03eabcfd",
   "metadata": {},
   "source": [
    "Some properties of these support vectors can be found in attributes support_vectors_, support_ and n_support_"
   ]
  },
  {
   "cell_type": "code",
   "execution_count": 12,
   "id": "bc67e778-eed0-4d55-80a5-d8b5875086c6",
   "metadata": {},
   "outputs": [
    {
     "name": "stdout",
     "output_type": "stream",
     "text": [
      "clf.support_vectors_ [[0. 0.]\n",
      " [1. 1.]]\n",
      "clf.support_ [0 1]\n",
      "clf.n_support_ [1 1]\n"
     ]
    }
   ],
   "source": [
    "# get support vectors\n",
    "print('clf.support_vectors_',clf.support_vectors_)\n",
    "# get indices of support vectors\n",
    "print('clf.support_',clf.support_)\n",
    "# get number of support vectors for each class\n",
    "print('clf.n_support_',clf.n_support_)"
   ]
  },
  {
   "cell_type": "code",
   "execution_count": null,
   "id": "d842e09f-f12f-4195-9797-fff24d1b4a00",
   "metadata": {},
   "outputs": [],
   "source": []
  }
 ],
 "metadata": {
  "kernelspec": {
   "display_name": "Python 3 (ipykernel)",
   "language": "python",
   "name": "python3"
  },
  "language_info": {
   "codemirror_mode": {
    "name": "ipython",
    "version": 3
   },
   "file_extension": ".py",
   "mimetype": "text/x-python",
   "name": "python",
   "nbconvert_exporter": "python",
   "pygments_lexer": "ipython3",
   "version": "3.9.7"
  }
 },
 "nbformat": 4,
 "nbformat_minor": 5
}
